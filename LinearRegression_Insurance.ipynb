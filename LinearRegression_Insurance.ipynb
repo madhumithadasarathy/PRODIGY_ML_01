{
  "nbformat": 4,
  "nbformat_minor": 0,
  "metadata": {
    "colab": {
      "provenance": []
    },
    "kernelspec": {
      "name": "python3",
      "display_name": "Python 3"
    },
    "language_info": {
      "name": "python"
    }
  },
  "cells": [
    {
      "cell_type": "markdown",
      "source": [
        "# Importing Necessary Libraries\n",
        "\n"
      ],
      "metadata": {
        "id": "0JzPUAKMZA7B"
      }
    },
    {
      "cell_type": "code",
      "execution_count": 1,
      "metadata": {
        "id": "iFPblndrQj6m"
      },
      "outputs": [],
      "source": [
        "import pandas as pd\n",
        "import numpy as np\n",
        "import matplotlib.pyplot as plt"
      ]
    },
    {
      "cell_type": "markdown",
      "source": [
        "**Explanation:**\n",
        "\n",
        "\n",
        "*   **pandas** is used for data manipulation and analysis.\n",
        "*   **numpy** is used for numerical operations.\n",
        "*   **matplotlib** is used for data visualization.\n",
        "\n",
        "\n",
        "\n",
        "\n",
        "\n"
      ],
      "metadata": {
        "id": "FEQNRnKXfSLO"
      }
    },
    {
      "cell_type": "markdown",
      "source": [
        "# Reading the Dataset"
      ],
      "metadata": {
        "id": "a95ffCR2ZBYi"
      }
    },
    {
      "cell_type": "code",
      "source": [
        "df = pd.read_csv(\"/content/insurance.csv\")\n",
        "df.head()"
      ],
      "metadata": {
        "colab": {
          "base_uri": "https://localhost:8080/",
          "height": 206
        },
        "id": "0NYK-Ox-QuJr",
        "outputId": "e830ed4e-6640-47ed-84ec-bca603def4f8"
      },
      "execution_count": 2,
      "outputs": [
        {
          "output_type": "execute_result",
          "data": {
            "text/plain": [
              "   age     sex   bmi  children smoker     region  expenses\n",
              "0   19  female  27.9         0    yes  southwest  16884.92\n",
              "1   18    male  33.8         1     no  southeast   1725.55\n",
              "2   28    male  33.0         3     no  southeast   4449.46\n",
              "3   33    male  22.7         0     no  northwest  21984.47\n",
              "4   32    male  28.9         0     no  northwest   3866.86"
            ],
            "text/html": [
              "\n",
              "  <div id=\"df-db8d998b-53b3-4c35-bbac-d0c62b9dd532\" class=\"colab-df-container\">\n",
              "    <div>\n",
              "<style scoped>\n",
              "    .dataframe tbody tr th:only-of-type {\n",
              "        vertical-align: middle;\n",
              "    }\n",
              "\n",
              "    .dataframe tbody tr th {\n",
              "        vertical-align: top;\n",
              "    }\n",
              "\n",
              "    .dataframe thead th {\n",
              "        text-align: right;\n",
              "    }\n",
              "</style>\n",
              "<table border=\"1\" class=\"dataframe\">\n",
              "  <thead>\n",
              "    <tr style=\"text-align: right;\">\n",
              "      <th></th>\n",
              "      <th>age</th>\n",
              "      <th>sex</th>\n",
              "      <th>bmi</th>\n",
              "      <th>children</th>\n",
              "      <th>smoker</th>\n",
              "      <th>region</th>\n",
              "      <th>expenses</th>\n",
              "    </tr>\n",
              "  </thead>\n",
              "  <tbody>\n",
              "    <tr>\n",
              "      <th>0</th>\n",
              "      <td>19</td>\n",
              "      <td>female</td>\n",
              "      <td>27.9</td>\n",
              "      <td>0</td>\n",
              "      <td>yes</td>\n",
              "      <td>southwest</td>\n",
              "      <td>16884.92</td>\n",
              "    </tr>\n",
              "    <tr>\n",
              "      <th>1</th>\n",
              "      <td>18</td>\n",
              "      <td>male</td>\n",
              "      <td>33.8</td>\n",
              "      <td>1</td>\n",
              "      <td>no</td>\n",
              "      <td>southeast</td>\n",
              "      <td>1725.55</td>\n",
              "    </tr>\n",
              "    <tr>\n",
              "      <th>2</th>\n",
              "      <td>28</td>\n",
              "      <td>male</td>\n",
              "      <td>33.0</td>\n",
              "      <td>3</td>\n",
              "      <td>no</td>\n",
              "      <td>southeast</td>\n",
              "      <td>4449.46</td>\n",
              "    </tr>\n",
              "    <tr>\n",
              "      <th>3</th>\n",
              "      <td>33</td>\n",
              "      <td>male</td>\n",
              "      <td>22.7</td>\n",
              "      <td>0</td>\n",
              "      <td>no</td>\n",
              "      <td>northwest</td>\n",
              "      <td>21984.47</td>\n",
              "    </tr>\n",
              "    <tr>\n",
              "      <th>4</th>\n",
              "      <td>32</td>\n",
              "      <td>male</td>\n",
              "      <td>28.9</td>\n",
              "      <td>0</td>\n",
              "      <td>no</td>\n",
              "      <td>northwest</td>\n",
              "      <td>3866.86</td>\n",
              "    </tr>\n",
              "  </tbody>\n",
              "</table>\n",
              "</div>\n",
              "    <div class=\"colab-df-buttons\">\n",
              "\n",
              "  <div class=\"colab-df-container\">\n",
              "    <button class=\"colab-df-convert\" onclick=\"convertToInteractive('df-db8d998b-53b3-4c35-bbac-d0c62b9dd532')\"\n",
              "            title=\"Convert this dataframe to an interactive table.\"\n",
              "            style=\"display:none;\">\n",
              "\n",
              "  <svg xmlns=\"http://www.w3.org/2000/svg\" height=\"24px\" viewBox=\"0 -960 960 960\">\n",
              "    <path d=\"M120-120v-720h720v720H120Zm60-500h600v-160H180v160Zm220 220h160v-160H400v160Zm0 220h160v-160H400v160ZM180-400h160v-160H180v160Zm440 0h160v-160H620v160ZM180-180h160v-160H180v160Zm440 0h160v-160H620v160Z\"/>\n",
              "  </svg>\n",
              "    </button>\n",
              "\n",
              "  <style>\n",
              "    .colab-df-container {\n",
              "      display:flex;\n",
              "      gap: 12px;\n",
              "    }\n",
              "\n",
              "    .colab-df-convert {\n",
              "      background-color: #E8F0FE;\n",
              "      border: none;\n",
              "      border-radius: 50%;\n",
              "      cursor: pointer;\n",
              "      display: none;\n",
              "      fill: #1967D2;\n",
              "      height: 32px;\n",
              "      padding: 0 0 0 0;\n",
              "      width: 32px;\n",
              "    }\n",
              "\n",
              "    .colab-df-convert:hover {\n",
              "      background-color: #E2EBFA;\n",
              "      box-shadow: 0px 1px 2px rgba(60, 64, 67, 0.3), 0px 1px 3px 1px rgba(60, 64, 67, 0.15);\n",
              "      fill: #174EA6;\n",
              "    }\n",
              "\n",
              "    .colab-df-buttons div {\n",
              "      margin-bottom: 4px;\n",
              "    }\n",
              "\n",
              "    [theme=dark] .colab-df-convert {\n",
              "      background-color: #3B4455;\n",
              "      fill: #D2E3FC;\n",
              "    }\n",
              "\n",
              "    [theme=dark] .colab-df-convert:hover {\n",
              "      background-color: #434B5C;\n",
              "      box-shadow: 0px 1px 3px 1px rgba(0, 0, 0, 0.15);\n",
              "      filter: drop-shadow(0px 1px 2px rgba(0, 0, 0, 0.3));\n",
              "      fill: #FFFFFF;\n",
              "    }\n",
              "  </style>\n",
              "\n",
              "    <script>\n",
              "      const buttonEl =\n",
              "        document.querySelector('#df-db8d998b-53b3-4c35-bbac-d0c62b9dd532 button.colab-df-convert');\n",
              "      buttonEl.style.display =\n",
              "        google.colab.kernel.accessAllowed ? 'block' : 'none';\n",
              "\n",
              "      async function convertToInteractive(key) {\n",
              "        const element = document.querySelector('#df-db8d998b-53b3-4c35-bbac-d0c62b9dd532');\n",
              "        const dataTable =\n",
              "          await google.colab.kernel.invokeFunction('convertToInteractive',\n",
              "                                                    [key], {});\n",
              "        if (!dataTable) return;\n",
              "\n",
              "        const docLinkHtml = 'Like what you see? Visit the ' +\n",
              "          '<a target=\"_blank\" href=https://colab.research.google.com/notebooks/data_table.ipynb>data table notebook</a>'\n",
              "          + ' to learn more about interactive tables.';\n",
              "        element.innerHTML = '';\n",
              "        dataTable['output_type'] = 'display_data';\n",
              "        await google.colab.output.renderOutput(dataTable, element);\n",
              "        const docLink = document.createElement('div');\n",
              "        docLink.innerHTML = docLinkHtml;\n",
              "        element.appendChild(docLink);\n",
              "      }\n",
              "    </script>\n",
              "  </div>\n",
              "\n",
              "\n",
              "<div id=\"df-20ca7258-d699-4dbf-8abb-13bf47beccbf\">\n",
              "  <button class=\"colab-df-quickchart\" onclick=\"quickchart('df-20ca7258-d699-4dbf-8abb-13bf47beccbf')\"\n",
              "            title=\"Suggest charts\"\n",
              "            style=\"display:none;\">\n",
              "\n",
              "<svg xmlns=\"http://www.w3.org/2000/svg\" height=\"24px\"viewBox=\"0 0 24 24\"\n",
              "     width=\"24px\">\n",
              "    <g>\n",
              "        <path d=\"M19 3H5c-1.1 0-2 .9-2 2v14c0 1.1.9 2 2 2h14c1.1 0 2-.9 2-2V5c0-1.1-.9-2-2-2zM9 17H7v-7h2v7zm4 0h-2V7h2v10zm4 0h-2v-4h2v4z\"/>\n",
              "    </g>\n",
              "</svg>\n",
              "  </button>\n",
              "\n",
              "<style>\n",
              "  .colab-df-quickchart {\n",
              "      --bg-color: #E8F0FE;\n",
              "      --fill-color: #1967D2;\n",
              "      --hover-bg-color: #E2EBFA;\n",
              "      --hover-fill-color: #174EA6;\n",
              "      --disabled-fill-color: #AAA;\n",
              "      --disabled-bg-color: #DDD;\n",
              "  }\n",
              "\n",
              "  [theme=dark] .colab-df-quickchart {\n",
              "      --bg-color: #3B4455;\n",
              "      --fill-color: #D2E3FC;\n",
              "      --hover-bg-color: #434B5C;\n",
              "      --hover-fill-color: #FFFFFF;\n",
              "      --disabled-bg-color: #3B4455;\n",
              "      --disabled-fill-color: #666;\n",
              "  }\n",
              "\n",
              "  .colab-df-quickchart {\n",
              "    background-color: var(--bg-color);\n",
              "    border: none;\n",
              "    border-radius: 50%;\n",
              "    cursor: pointer;\n",
              "    display: none;\n",
              "    fill: var(--fill-color);\n",
              "    height: 32px;\n",
              "    padding: 0;\n",
              "    width: 32px;\n",
              "  }\n",
              "\n",
              "  .colab-df-quickchart:hover {\n",
              "    background-color: var(--hover-bg-color);\n",
              "    box-shadow: 0 1px 2px rgba(60, 64, 67, 0.3), 0 1px 3px 1px rgba(60, 64, 67, 0.15);\n",
              "    fill: var(--button-hover-fill-color);\n",
              "  }\n",
              "\n",
              "  .colab-df-quickchart-complete:disabled,\n",
              "  .colab-df-quickchart-complete:disabled:hover {\n",
              "    background-color: var(--disabled-bg-color);\n",
              "    fill: var(--disabled-fill-color);\n",
              "    box-shadow: none;\n",
              "  }\n",
              "\n",
              "  .colab-df-spinner {\n",
              "    border: 2px solid var(--fill-color);\n",
              "    border-color: transparent;\n",
              "    border-bottom-color: var(--fill-color);\n",
              "    animation:\n",
              "      spin 1s steps(1) infinite;\n",
              "  }\n",
              "\n",
              "  @keyframes spin {\n",
              "    0% {\n",
              "      border-color: transparent;\n",
              "      border-bottom-color: var(--fill-color);\n",
              "      border-left-color: var(--fill-color);\n",
              "    }\n",
              "    20% {\n",
              "      border-color: transparent;\n",
              "      border-left-color: var(--fill-color);\n",
              "      border-top-color: var(--fill-color);\n",
              "    }\n",
              "    30% {\n",
              "      border-color: transparent;\n",
              "      border-left-color: var(--fill-color);\n",
              "      border-top-color: var(--fill-color);\n",
              "      border-right-color: var(--fill-color);\n",
              "    }\n",
              "    40% {\n",
              "      border-color: transparent;\n",
              "      border-right-color: var(--fill-color);\n",
              "      border-top-color: var(--fill-color);\n",
              "    }\n",
              "    60% {\n",
              "      border-color: transparent;\n",
              "      border-right-color: var(--fill-color);\n",
              "    }\n",
              "    80% {\n",
              "      border-color: transparent;\n",
              "      border-right-color: var(--fill-color);\n",
              "      border-bottom-color: var(--fill-color);\n",
              "    }\n",
              "    90% {\n",
              "      border-color: transparent;\n",
              "      border-bottom-color: var(--fill-color);\n",
              "    }\n",
              "  }\n",
              "</style>\n",
              "\n",
              "  <script>\n",
              "    async function quickchart(key) {\n",
              "      const quickchartButtonEl =\n",
              "        document.querySelector('#' + key + ' button');\n",
              "      quickchartButtonEl.disabled = true;  // To prevent multiple clicks.\n",
              "      quickchartButtonEl.classList.add('colab-df-spinner');\n",
              "      try {\n",
              "        const charts = await google.colab.kernel.invokeFunction(\n",
              "            'suggestCharts', [key], {});\n",
              "      } catch (error) {\n",
              "        console.error('Error during call to suggestCharts:', error);\n",
              "      }\n",
              "      quickchartButtonEl.classList.remove('colab-df-spinner');\n",
              "      quickchartButtonEl.classList.add('colab-df-quickchart-complete');\n",
              "    }\n",
              "    (() => {\n",
              "      let quickchartButtonEl =\n",
              "        document.querySelector('#df-20ca7258-d699-4dbf-8abb-13bf47beccbf button');\n",
              "      quickchartButtonEl.style.display =\n",
              "        google.colab.kernel.accessAllowed ? 'block' : 'none';\n",
              "    })();\n",
              "  </script>\n",
              "</div>\n",
              "    </div>\n",
              "  </div>\n"
            ]
          },
          "metadata": {},
          "execution_count": 2
        }
      ]
    },
    {
      "cell_type": "markdown",
      "source": [
        "**Explanation:**\n",
        "**read_csv** is used to read the dataframe that is of csv format."
      ],
      "metadata": {
        "id": "n6rBSSvWk1eG"
      }
    },
    {
      "cell_type": "markdown",
      "source": [
        "# Converting the categorical variables to numerical variables"
      ],
      "metadata": {
        "id": "PkESot0RZC16"
      }
    },
    {
      "cell_type": "code",
      "source": [
        "df['sex'] = df['sex'].astype('category')\n",
        "df['sex'] = df['sex'].cat.codes\n",
        "df['smoker'] = df['smoker'].astype('category')\n",
        "df['smoker'] = df['smoker'].cat.codes\n",
        "df['region'] = df['region'].astype('category')\n",
        "df['region'] = df['region'].cat.codes"
      ],
      "metadata": {
        "id": "8LPwd_BeQ6uX"
      },
      "execution_count": 4,
      "outputs": []
    },
    {
      "cell_type": "code",
      "source": [
        "df.head()"
      ],
      "metadata": {
        "colab": {
          "base_uri": "https://localhost:8080/",
          "height": 206
        },
        "id": "pZaqFN7nRUGq",
        "outputId": "68dbc5bb-9c5e-4941-d387-f78678a91dcc"
      },
      "execution_count": 5,
      "outputs": [
        {
          "output_type": "execute_result",
          "data": {
            "text/plain": [
              "   age  sex   bmi  children  smoker  region  expenses\n",
              "0   19    0  27.9         0       1       3  16884.92\n",
              "1   18    1  33.8         1       0       2   1725.55\n",
              "2   28    1  33.0         3       0       2   4449.46\n",
              "3   33    1  22.7         0       0       1  21984.47\n",
              "4   32    1  28.9         0       0       1   3866.86"
            ],
            "text/html": [
              "\n",
              "  <div id=\"df-2c816ea9-f449-4e0c-a177-77b6407de8c4\" class=\"colab-df-container\">\n",
              "    <div>\n",
              "<style scoped>\n",
              "    .dataframe tbody tr th:only-of-type {\n",
              "        vertical-align: middle;\n",
              "    }\n",
              "\n",
              "    .dataframe tbody tr th {\n",
              "        vertical-align: top;\n",
              "    }\n",
              "\n",
              "    .dataframe thead th {\n",
              "        text-align: right;\n",
              "    }\n",
              "</style>\n",
              "<table border=\"1\" class=\"dataframe\">\n",
              "  <thead>\n",
              "    <tr style=\"text-align: right;\">\n",
              "      <th></th>\n",
              "      <th>age</th>\n",
              "      <th>sex</th>\n",
              "      <th>bmi</th>\n",
              "      <th>children</th>\n",
              "      <th>smoker</th>\n",
              "      <th>region</th>\n",
              "      <th>expenses</th>\n",
              "    </tr>\n",
              "  </thead>\n",
              "  <tbody>\n",
              "    <tr>\n",
              "      <th>0</th>\n",
              "      <td>19</td>\n",
              "      <td>0</td>\n",
              "      <td>27.9</td>\n",
              "      <td>0</td>\n",
              "      <td>1</td>\n",
              "      <td>3</td>\n",
              "      <td>16884.92</td>\n",
              "    </tr>\n",
              "    <tr>\n",
              "      <th>1</th>\n",
              "      <td>18</td>\n",
              "      <td>1</td>\n",
              "      <td>33.8</td>\n",
              "      <td>1</td>\n",
              "      <td>0</td>\n",
              "      <td>2</td>\n",
              "      <td>1725.55</td>\n",
              "    </tr>\n",
              "    <tr>\n",
              "      <th>2</th>\n",
              "      <td>28</td>\n",
              "      <td>1</td>\n",
              "      <td>33.0</td>\n",
              "      <td>3</td>\n",
              "      <td>0</td>\n",
              "      <td>2</td>\n",
              "      <td>4449.46</td>\n",
              "    </tr>\n",
              "    <tr>\n",
              "      <th>3</th>\n",
              "      <td>33</td>\n",
              "      <td>1</td>\n",
              "      <td>22.7</td>\n",
              "      <td>0</td>\n",
              "      <td>0</td>\n",
              "      <td>1</td>\n",
              "      <td>21984.47</td>\n",
              "    </tr>\n",
              "    <tr>\n",
              "      <th>4</th>\n",
              "      <td>32</td>\n",
              "      <td>1</td>\n",
              "      <td>28.9</td>\n",
              "      <td>0</td>\n",
              "      <td>0</td>\n",
              "      <td>1</td>\n",
              "      <td>3866.86</td>\n",
              "    </tr>\n",
              "  </tbody>\n",
              "</table>\n",
              "</div>\n",
              "    <div class=\"colab-df-buttons\">\n",
              "\n",
              "  <div class=\"colab-df-container\">\n",
              "    <button class=\"colab-df-convert\" onclick=\"convertToInteractive('df-2c816ea9-f449-4e0c-a177-77b6407de8c4')\"\n",
              "            title=\"Convert this dataframe to an interactive table.\"\n",
              "            style=\"display:none;\">\n",
              "\n",
              "  <svg xmlns=\"http://www.w3.org/2000/svg\" height=\"24px\" viewBox=\"0 -960 960 960\">\n",
              "    <path d=\"M120-120v-720h720v720H120Zm60-500h600v-160H180v160Zm220 220h160v-160H400v160Zm0 220h160v-160H400v160ZM180-400h160v-160H180v160Zm440 0h160v-160H620v160ZM180-180h160v-160H180v160Zm440 0h160v-160H620v160Z\"/>\n",
              "  </svg>\n",
              "    </button>\n",
              "\n",
              "  <style>\n",
              "    .colab-df-container {\n",
              "      display:flex;\n",
              "      gap: 12px;\n",
              "    }\n",
              "\n",
              "    .colab-df-convert {\n",
              "      background-color: #E8F0FE;\n",
              "      border: none;\n",
              "      border-radius: 50%;\n",
              "      cursor: pointer;\n",
              "      display: none;\n",
              "      fill: #1967D2;\n",
              "      height: 32px;\n",
              "      padding: 0 0 0 0;\n",
              "      width: 32px;\n",
              "    }\n",
              "\n",
              "    .colab-df-convert:hover {\n",
              "      background-color: #E2EBFA;\n",
              "      box-shadow: 0px 1px 2px rgba(60, 64, 67, 0.3), 0px 1px 3px 1px rgba(60, 64, 67, 0.15);\n",
              "      fill: #174EA6;\n",
              "    }\n",
              "\n",
              "    .colab-df-buttons div {\n",
              "      margin-bottom: 4px;\n",
              "    }\n",
              "\n",
              "    [theme=dark] .colab-df-convert {\n",
              "      background-color: #3B4455;\n",
              "      fill: #D2E3FC;\n",
              "    }\n",
              "\n",
              "    [theme=dark] .colab-df-convert:hover {\n",
              "      background-color: #434B5C;\n",
              "      box-shadow: 0px 1px 3px 1px rgba(0, 0, 0, 0.15);\n",
              "      filter: drop-shadow(0px 1px 2px rgba(0, 0, 0, 0.3));\n",
              "      fill: #FFFFFF;\n",
              "    }\n",
              "  </style>\n",
              "\n",
              "    <script>\n",
              "      const buttonEl =\n",
              "        document.querySelector('#df-2c816ea9-f449-4e0c-a177-77b6407de8c4 button.colab-df-convert');\n",
              "      buttonEl.style.display =\n",
              "        google.colab.kernel.accessAllowed ? 'block' : 'none';\n",
              "\n",
              "      async function convertToInteractive(key) {\n",
              "        const element = document.querySelector('#df-2c816ea9-f449-4e0c-a177-77b6407de8c4');\n",
              "        const dataTable =\n",
              "          await google.colab.kernel.invokeFunction('convertToInteractive',\n",
              "                                                    [key], {});\n",
              "        if (!dataTable) return;\n",
              "\n",
              "        const docLinkHtml = 'Like what you see? Visit the ' +\n",
              "          '<a target=\"_blank\" href=https://colab.research.google.com/notebooks/data_table.ipynb>data table notebook</a>'\n",
              "          + ' to learn more about interactive tables.';\n",
              "        element.innerHTML = '';\n",
              "        dataTable['output_type'] = 'display_data';\n",
              "        await google.colab.output.renderOutput(dataTable, element);\n",
              "        const docLink = document.createElement('div');\n",
              "        docLink.innerHTML = docLinkHtml;\n",
              "        element.appendChild(docLink);\n",
              "      }\n",
              "    </script>\n",
              "  </div>\n",
              "\n",
              "\n",
              "<div id=\"df-b32ed8e8-1426-4066-9acd-bd668da7d669\">\n",
              "  <button class=\"colab-df-quickchart\" onclick=\"quickchart('df-b32ed8e8-1426-4066-9acd-bd668da7d669')\"\n",
              "            title=\"Suggest charts\"\n",
              "            style=\"display:none;\">\n",
              "\n",
              "<svg xmlns=\"http://www.w3.org/2000/svg\" height=\"24px\"viewBox=\"0 0 24 24\"\n",
              "     width=\"24px\">\n",
              "    <g>\n",
              "        <path d=\"M19 3H5c-1.1 0-2 .9-2 2v14c0 1.1.9 2 2 2h14c1.1 0 2-.9 2-2V5c0-1.1-.9-2-2-2zM9 17H7v-7h2v7zm4 0h-2V7h2v10zm4 0h-2v-4h2v4z\"/>\n",
              "    </g>\n",
              "</svg>\n",
              "  </button>\n",
              "\n",
              "<style>\n",
              "  .colab-df-quickchart {\n",
              "      --bg-color: #E8F0FE;\n",
              "      --fill-color: #1967D2;\n",
              "      --hover-bg-color: #E2EBFA;\n",
              "      --hover-fill-color: #174EA6;\n",
              "      --disabled-fill-color: #AAA;\n",
              "      --disabled-bg-color: #DDD;\n",
              "  }\n",
              "\n",
              "  [theme=dark] .colab-df-quickchart {\n",
              "      --bg-color: #3B4455;\n",
              "      --fill-color: #D2E3FC;\n",
              "      --hover-bg-color: #434B5C;\n",
              "      --hover-fill-color: #FFFFFF;\n",
              "      --disabled-bg-color: #3B4455;\n",
              "      --disabled-fill-color: #666;\n",
              "  }\n",
              "\n",
              "  .colab-df-quickchart {\n",
              "    background-color: var(--bg-color);\n",
              "    border: none;\n",
              "    border-radius: 50%;\n",
              "    cursor: pointer;\n",
              "    display: none;\n",
              "    fill: var(--fill-color);\n",
              "    height: 32px;\n",
              "    padding: 0;\n",
              "    width: 32px;\n",
              "  }\n",
              "\n",
              "  .colab-df-quickchart:hover {\n",
              "    background-color: var(--hover-bg-color);\n",
              "    box-shadow: 0 1px 2px rgba(60, 64, 67, 0.3), 0 1px 3px 1px rgba(60, 64, 67, 0.15);\n",
              "    fill: var(--button-hover-fill-color);\n",
              "  }\n",
              "\n",
              "  .colab-df-quickchart-complete:disabled,\n",
              "  .colab-df-quickchart-complete:disabled:hover {\n",
              "    background-color: var(--disabled-bg-color);\n",
              "    fill: var(--disabled-fill-color);\n",
              "    box-shadow: none;\n",
              "  }\n",
              "\n",
              "  .colab-df-spinner {\n",
              "    border: 2px solid var(--fill-color);\n",
              "    border-color: transparent;\n",
              "    border-bottom-color: var(--fill-color);\n",
              "    animation:\n",
              "      spin 1s steps(1) infinite;\n",
              "  }\n",
              "\n",
              "  @keyframes spin {\n",
              "    0% {\n",
              "      border-color: transparent;\n",
              "      border-bottom-color: var(--fill-color);\n",
              "      border-left-color: var(--fill-color);\n",
              "    }\n",
              "    20% {\n",
              "      border-color: transparent;\n",
              "      border-left-color: var(--fill-color);\n",
              "      border-top-color: var(--fill-color);\n",
              "    }\n",
              "    30% {\n",
              "      border-color: transparent;\n",
              "      border-left-color: var(--fill-color);\n",
              "      border-top-color: var(--fill-color);\n",
              "      border-right-color: var(--fill-color);\n",
              "    }\n",
              "    40% {\n",
              "      border-color: transparent;\n",
              "      border-right-color: var(--fill-color);\n",
              "      border-top-color: var(--fill-color);\n",
              "    }\n",
              "    60% {\n",
              "      border-color: transparent;\n",
              "      border-right-color: var(--fill-color);\n",
              "    }\n",
              "    80% {\n",
              "      border-color: transparent;\n",
              "      border-right-color: var(--fill-color);\n",
              "      border-bottom-color: var(--fill-color);\n",
              "    }\n",
              "    90% {\n",
              "      border-color: transparent;\n",
              "      border-bottom-color: var(--fill-color);\n",
              "    }\n",
              "  }\n",
              "</style>\n",
              "\n",
              "  <script>\n",
              "    async function quickchart(key) {\n",
              "      const quickchartButtonEl =\n",
              "        document.querySelector('#' + key + ' button');\n",
              "      quickchartButtonEl.disabled = true;  // To prevent multiple clicks.\n",
              "      quickchartButtonEl.classList.add('colab-df-spinner');\n",
              "      try {\n",
              "        const charts = await google.colab.kernel.invokeFunction(\n",
              "            'suggestCharts', [key], {});\n",
              "      } catch (error) {\n",
              "        console.error('Error during call to suggestCharts:', error);\n",
              "      }\n",
              "      quickchartButtonEl.classList.remove('colab-df-spinner');\n",
              "      quickchartButtonEl.classList.add('colab-df-quickchart-complete');\n",
              "    }\n",
              "    (() => {\n",
              "      let quickchartButtonEl =\n",
              "        document.querySelector('#df-b32ed8e8-1426-4066-9acd-bd668da7d669 button');\n",
              "      quickchartButtonEl.style.display =\n",
              "        google.colab.kernel.accessAllowed ? 'block' : 'none';\n",
              "    })();\n",
              "  </script>\n",
              "</div>\n",
              "    </div>\n",
              "  </div>\n"
            ]
          },
          "metadata": {},
          "execution_count": 5
        }
      ]
    },
    {
      "cell_type": "markdown",
      "source": [
        "# Checking for missing values"
      ],
      "metadata": {
        "id": "hl0kv1itZEEo"
      }
    },
    {
      "cell_type": "code",
      "source": [
        "df.isnull().sum()"
      ],
      "metadata": {
        "colab": {
          "base_uri": "https://localhost:8080/"
        },
        "id": "BcLMrpVuRnqs",
        "outputId": "fe6bd2fe-edfd-4fec-bf41-c35ac2228540"
      },
      "execution_count": 6,
      "outputs": [
        {
          "output_type": "execute_result",
          "data": {
            "text/plain": [
              "age         0\n",
              "sex         0\n",
              "bmi         0\n",
              "children    0\n",
              "smoker      0\n",
              "region      0\n",
              "expenses    0\n",
              "dtype: int64"
            ]
          },
          "metadata": {},
          "execution_count": 6
        }
      ]
    },
    {
      "cell_type": "markdown",
      "source": [
        "# Seperating Dataset into Features(X) and Target (y)"
      ],
      "metadata": {
        "id": "v9EZb3N3ZFPW"
      }
    },
    {
      "cell_type": "code",
      "source": [
        "X = df.drop(columns='expenses')\n",
        "print(X)"
      ],
      "metadata": {
        "colab": {
          "base_uri": "https://localhost:8080/"
        },
        "id": "0KTuUVDGRxZA",
        "outputId": "accc238f-f7eb-4855-e49a-132ff124bde2"
      },
      "execution_count": 9,
      "outputs": [
        {
          "output_type": "stream",
          "name": "stdout",
          "text": [
            "      age  sex   bmi  children  smoker  region\n",
            "0      19    0  27.9         0       1       3\n",
            "1      18    1  33.8         1       0       2\n",
            "2      28    1  33.0         3       0       2\n",
            "3      33    1  22.7         0       0       1\n",
            "4      32    1  28.9         0       0       1\n",
            "...   ...  ...   ...       ...     ...     ...\n",
            "1333   50    1  31.0         3       0       1\n",
            "1334   18    0  31.9         0       0       0\n",
            "1335   18    0  36.9         0       0       2\n",
            "1336   21    0  25.8         0       0       3\n",
            "1337   61    0  29.1         0       1       1\n",
            "\n",
            "[1338 rows x 6 columns]\n"
          ]
        }
      ]
    },
    {
      "cell_type": "markdown",
      "source": [
        "**Explanation:** Creating a Dataframe **X** containing features by dropping the 'expenses' column."
      ],
      "metadata": {
        "id": "OHlgAAz-msb5"
      }
    },
    {
      "cell_type": "code",
      "source": [
        "y = df['expenses']"
      ],
      "metadata": {
        "id": "hbz8ZRj5SCBl"
      },
      "execution_count": 10,
      "outputs": []
    },
    {
      "cell_type": "markdown",
      "source": [
        "**Explanation:** **y** is assigned to 'expenses' column."
      ],
      "metadata": {
        "id": "tqQ4njBPnFge"
      }
    },
    {
      "cell_type": "markdown",
      "source": [
        "# Splitting Data into training and test sets."
      ],
      "metadata": {
        "id": "xtD4BlXbZH1P"
      }
    },
    {
      "cell_type": "code",
      "source": [
        "from sklearn.model_selection import train_test_split\n",
        "X_train, X_test, y_train, y_test = train_test_split(X,y,test_size=1/3,random_state=0)"
      ],
      "metadata": {
        "id": "y5f2G1AsSPw7"
      },
      "execution_count": 12,
      "outputs": []
    },
    {
      "cell_type": "markdown",
      "source": [
        "**Explanation:** Splitting the data into test set and training set such that the test set holds 1/3 parts of the data and training set holds 2/3 parts of the data."
      ],
      "metadata": {
        "id": "5AbMZBOvnaE8"
      }
    },
    {
      "cell_type": "markdown",
      "source": [
        "# Building the Linear Regression Model"
      ],
      "metadata": {
        "id": "b2wOC49nZI_G"
      }
    },
    {
      "cell_type": "code",
      "source": [
        "from sklearn.linear_model import LinearRegression\n",
        "reg = LinearRegression()\n",
        "reg.fit(X_train,y_train)"
      ],
      "metadata": {
        "colab": {
          "base_uri": "https://localhost:8080/",
          "height": 74
        },
        "id": "NCWHfQfdS5Dk",
        "outputId": "a0781df3-871f-432f-a22c-cb8a2e52d738"
      },
      "execution_count": 13,
      "outputs": [
        {
          "output_type": "execute_result",
          "data": {
            "text/plain": [
              "LinearRegression()"
            ],
            "text/html": [
              "<style>#sk-container-id-1 {color: black;background-color: white;}#sk-container-id-1 pre{padding: 0;}#sk-container-id-1 div.sk-toggleable {background-color: white;}#sk-container-id-1 label.sk-toggleable__label {cursor: pointer;display: block;width: 100%;margin-bottom: 0;padding: 0.3em;box-sizing: border-box;text-align: center;}#sk-container-id-1 label.sk-toggleable__label-arrow:before {content: \"▸\";float: left;margin-right: 0.25em;color: #696969;}#sk-container-id-1 label.sk-toggleable__label-arrow:hover:before {color: black;}#sk-container-id-1 div.sk-estimator:hover label.sk-toggleable__label-arrow:before {color: black;}#sk-container-id-1 div.sk-toggleable__content {max-height: 0;max-width: 0;overflow: hidden;text-align: left;background-color: #f0f8ff;}#sk-container-id-1 div.sk-toggleable__content pre {margin: 0.2em;color: black;border-radius: 0.25em;background-color: #f0f8ff;}#sk-container-id-1 input.sk-toggleable__control:checked~div.sk-toggleable__content {max-height: 200px;max-width: 100%;overflow: auto;}#sk-container-id-1 input.sk-toggleable__control:checked~label.sk-toggleable__label-arrow:before {content: \"▾\";}#sk-container-id-1 div.sk-estimator input.sk-toggleable__control:checked~label.sk-toggleable__label {background-color: #d4ebff;}#sk-container-id-1 div.sk-label input.sk-toggleable__control:checked~label.sk-toggleable__label {background-color: #d4ebff;}#sk-container-id-1 input.sk-hidden--visually {border: 0;clip: rect(1px 1px 1px 1px);clip: rect(1px, 1px, 1px, 1px);height: 1px;margin: -1px;overflow: hidden;padding: 0;position: absolute;width: 1px;}#sk-container-id-1 div.sk-estimator {font-family: monospace;background-color: #f0f8ff;border: 1px dotted black;border-radius: 0.25em;box-sizing: border-box;margin-bottom: 0.5em;}#sk-container-id-1 div.sk-estimator:hover {background-color: #d4ebff;}#sk-container-id-1 div.sk-parallel-item::after {content: \"\";width: 100%;border-bottom: 1px solid gray;flex-grow: 1;}#sk-container-id-1 div.sk-label:hover label.sk-toggleable__label {background-color: #d4ebff;}#sk-container-id-1 div.sk-serial::before {content: \"\";position: absolute;border-left: 1px solid gray;box-sizing: border-box;top: 0;bottom: 0;left: 50%;z-index: 0;}#sk-container-id-1 div.sk-serial {display: flex;flex-direction: column;align-items: center;background-color: white;padding-right: 0.2em;padding-left: 0.2em;position: relative;}#sk-container-id-1 div.sk-item {position: relative;z-index: 1;}#sk-container-id-1 div.sk-parallel {display: flex;align-items: stretch;justify-content: center;background-color: white;position: relative;}#sk-container-id-1 div.sk-item::before, #sk-container-id-1 div.sk-parallel-item::before {content: \"\";position: absolute;border-left: 1px solid gray;box-sizing: border-box;top: 0;bottom: 0;left: 50%;z-index: -1;}#sk-container-id-1 div.sk-parallel-item {display: flex;flex-direction: column;z-index: 1;position: relative;background-color: white;}#sk-container-id-1 div.sk-parallel-item:first-child::after {align-self: flex-end;width: 50%;}#sk-container-id-1 div.sk-parallel-item:last-child::after {align-self: flex-start;width: 50%;}#sk-container-id-1 div.sk-parallel-item:only-child::after {width: 0;}#sk-container-id-1 div.sk-dashed-wrapped {border: 1px dashed gray;margin: 0 0.4em 0.5em 0.4em;box-sizing: border-box;padding-bottom: 0.4em;background-color: white;}#sk-container-id-1 div.sk-label label {font-family: monospace;font-weight: bold;display: inline-block;line-height: 1.2em;}#sk-container-id-1 div.sk-label-container {text-align: center;}#sk-container-id-1 div.sk-container {/* jupyter's `normalize.less` sets `[hidden] { display: none; }` but bootstrap.min.css set `[hidden] { display: none !important; }` so we also need the `!important` here to be able to override the default hidden behavior on the sphinx rendered scikit-learn.org. See: https://github.com/scikit-learn/scikit-learn/issues/21755 */display: inline-block !important;position: relative;}#sk-container-id-1 div.sk-text-repr-fallback {display: none;}</style><div id=\"sk-container-id-1\" class=\"sk-top-container\"><div class=\"sk-text-repr-fallback\"><pre>LinearRegression()</pre><b>In a Jupyter environment, please rerun this cell to show the HTML representation or trust the notebook. <br />On GitHub, the HTML representation is unable to render, please try loading this page with nbviewer.org.</b></div><div class=\"sk-container\" hidden><div class=\"sk-item\"><div class=\"sk-estimator sk-toggleable\"><input class=\"sk-toggleable__control sk-hidden--visually\" id=\"sk-estimator-id-1\" type=\"checkbox\" checked><label for=\"sk-estimator-id-1\" class=\"sk-toggleable__label sk-toggleable__label-arrow\">LinearRegression</label><div class=\"sk-toggleable__content\"><pre>LinearRegression()</pre></div></div></div></div></div>"
            ]
          },
          "metadata": {},
          "execution_count": 13
        }
      ]
    },
    {
      "cell_type": "markdown",
      "source": [
        "**Explanation:**\n",
        "\n",
        "\n",
        "*    In order to build a linear regression model, the first step is to import LinearRegression from linear model from scikit learn module.\n",
        "*   An object of the LinearRegression class is created.\n",
        "*   Finally the model is trained using the fit function passing the train set as the input."
      ],
      "metadata": {
        "id": "P1aEwH2gp0YR"
      }
    },
    {
      "cell_type": "markdown",
      "source": [
        "\n",
        "# Calculating Coefficients\n"
      ],
      "metadata": {
        "id": "o0hFf-yyZJ9X"
      }
    },
    {
      "cell_type": "code",
      "source": [
        "c = reg.intercept_\n",
        "c"
      ],
      "metadata": {
        "colab": {
          "base_uri": "https://localhost:8080/"
        },
        "id": "TsGkQFwPTNOq",
        "outputId": "12d9fb63-d32b-49e9-b9e0-e69100586016"
      },
      "execution_count": 15,
      "outputs": [
        {
          "output_type": "execute_result",
          "data": {
            "text/plain": [
              "-11777.069440280777"
            ]
          },
          "metadata": {},
          "execution_count": 15
        }
      ]
    },
    {
      "cell_type": "markdown",
      "source": [
        "**Explanation:** c represents the y intercept of the model."
      ],
      "metadata": {
        "id": "FcDiSRZnq6v-"
      }
    },
    {
      "cell_type": "code",
      "source": [
        "m = reg.coef_\n",
        "m"
      ],
      "metadata": {
        "colab": {
          "base_uri": "https://localhost:8080/"
        },
        "id": "XXCMVKk0TSnJ",
        "outputId": "8faa641d-3224-49a9-d9d7-81ed717342e8"
      },
      "execution_count": 16,
      "outputs": [
        {
          "output_type": "execute_result",
          "data": {
            "text/plain": [
              "array([  259.01328694,   -83.808971  ,   323.15396428,   554.96255326,\n",
              "       23226.97448526,  -279.9432407 ])"
            ]
          },
          "metadata": {},
          "execution_count": 16
        }
      ]
    },
    {
      "cell_type": "markdown",
      "source": [
        "**Explanation:** m represents the x intercepts of the model. Each value represents the coefficient of each feature variable."
      ],
      "metadata": {
        "id": "LdwgeJS4rA6K"
      }
    },
    {
      "cell_type": "markdown",
      "source": [
        "# Predicting results for the training set"
      ],
      "metadata": {
        "id": "M4hv99WRZLAY"
      }
    },
    {
      "cell_type": "code",
      "source": [
        "y_pred_train = reg.predict(X_train)\n",
        "y_pred_train"
      ],
      "metadata": {
        "colab": {
          "base_uri": "https://localhost:8080/"
        },
        "id": "yRsb4USTTZJh",
        "outputId": "dab45471-e4a2-4929-ad22-52c08946a0a1"
      },
      "execution_count": 17,
      "outputs": [
        {
          "output_type": "execute_result",
          "data": {
            "text/plain": [
              "array([ 2.47231772e+03,  3.53095960e+04,  1.53451930e+04,  3.37596200e+03,\n",
              "        1.96538085e+03,  1.02046163e+04,  1.00326341e+04,  1.11674972e+04,\n",
              "        1.67398400e+04,  4.28835142e+03,  1.83886558e+03,  4.22953099e+03,\n",
              "        5.60602770e+03,  6.20455344e+03,  2.65076672e+04,  1.42472402e+04,\n",
              "        1.18429483e+04,  7.89969842e+03,  1.39984454e+04,  2.63711683e+03,\n",
              "        1.32588316e+04,  1.17563173e+04,  2.18934673e+03,  9.23910700e+02,\n",
              "        3.66604484e+04,  7.41349712e+03,  9.07259720e+03,  2.24424624e+03,\n",
              "        1.15740191e+04,  7.71453222e+03,  1.17773364e+04,  2.54303638e+04,\n",
              "        2.68446572e+04,  8.49288053e+03,  8.01031958e+03,  3.25924193e+02,\n",
              "        4.81324047e+03,  7.78733393e+03,  3.23748202e+03,  8.40780989e+03,\n",
              "        1.64350286e+03,  4.48539404e+03,  3.31450446e+04,  5.93403518e+03,\n",
              "        1.15776603e+04,  8.95315395e+03,  3.12878317e+04,  1.16455381e+04,\n",
              "        1.14146349e+04,  4.85981012e+03,  6.98229296e+03,  5.82113442e+03,\n",
              "        4.94289542e+03,  9.82042425e+03,  3.12982845e+04,  3.26406190e+03,\n",
              "        3.75829873e+04,  1.08551266e+04,  8.96316581e+03,  3.03514490e+03,\n",
              "        1.20186185e+04,  3.02370750e+04,  2.66992234e+03,  5.94082576e+03,\n",
              "        1.12154003e+04,  1.01340814e+04,  5.90827449e+03,  1.29534573e+04,\n",
              "        1.23416597e+04,  2.77288398e+04,  1.13813884e+04,  1.10746814e+04,\n",
              "        1.43135252e+04,  1.23719889e+04,  2.78129302e+04,  1.18512312e+04,\n",
              "        1.28022856e+04,  1.53678020e+04,  4.14994629e+03,  2.82709714e+04,\n",
              "        8.99891287e+03,  2.84656096e+04,  1.12340665e+04,  6.50138618e+03,\n",
              "        1.32148274e+04,  1.47426078e+04,  9.68845344e+03,  2.33538293e+03,\n",
              "        5.52310220e+03,  2.66894211e+03,  5.68057359e+03, -1.03867505e+03,\n",
              "        1.48304353e+04,  3.94046611e+03,  1.04460337e+04,  1.30738741e+04,\n",
              "        1.13922837e+04,  9.22661290e+03,  1.35907109e+04,  9.96334228e+02,\n",
              "        1.12805213e+04,  9.37769087e+03,  8.25862136e+03,  1.51347817e+04,\n",
              "        1.25629406e+04,  2.97959579e+04,  1.74016858e+04,  1.04657520e+04,\n",
              "        9.47715953e+03,  1.28117582e+04,  5.83566629e+03,  1.59094186e+04,\n",
              "        7.37885068e+03,  5.60483793e+03,  3.13993612e+04,  1.36178437e+04,\n",
              "        1.29377500e+04,  1.22162942e+04,  1.26535901e+04,  5.26761648e+03,\n",
              "        2.80231139e+03,  4.27281655e+03,  5.99243887e+03,  2.66217329e+02,\n",
              "        8.57883759e+03,  7.66812214e+03,  5.96030729e+03,  1.47608777e+04,\n",
              "        4.10486426e+03,  7.62096772e+03,  4.93388866e+03,  7.55239784e+02,\n",
              "        6.30243074e+03,  6.07816151e+03,  3.11048720e+03,  3.00485739e+04,\n",
              "        1.02736105e+04,  1.21996066e+04,  3.65107689e+04,  5.34838800e+03,\n",
              "        1.39097820e+04,  9.53494090e+02,  7.20574681e+03,  2.54377164e+04,\n",
              "        1.04860299e+04,  5.72271407e+03,  1.56239684e+04,  8.49745346e+03,\n",
              "        3.36036706e+04,  1.29728942e+04,  9.10099167e+03,  1.15985894e+04,\n",
              "        2.95344932e+04,  4.70208008e+03,  8.66033975e+03,  1.02348745e+04,\n",
              "        2.37537153e+03,  3.36444299e+04,  2.57858332e+04,  1.24890467e+04,\n",
              "        7.26015620e+03,  6.72309585e+03,  3.34092624e+04,  3.43523160e+04,\n",
              "        1.09259602e+04,  2.81201521e+04,  3.28462742e+04,  4.58892127e+03,\n",
              "        3.32251013e+04,  9.14448297e+03,  3.33725608e+04,  2.58696921e+04,\n",
              "        1.33718057e+04,  1.24809983e+04,  5.65976317e+03,  1.53972705e+04,\n",
              "        1.08443204e+04,  4.38945085e+03,  1.46378689e+04,  1.69616616e+04,\n",
              "        2.67673484e+03,  7.60955951e+03,  3.41457765e+04, -2.02817582e+03,\n",
              "        4.86659775e+03,  1.16114709e+04,  1.47645899e+04,  9.69482875e+03,\n",
              "       -2.61353756e+02,  3.73685432e+04,  3.69860098e+03,  1.59854349e+04,\n",
              "        4.63213200e+03,  2.03745043e+03,  1.05240112e+04,  1.12440783e+04,\n",
              "        1.59116597e+04,  8.62501178e+03,  3.82072474e+04,  1.02433041e+04,\n",
              "        1.19698780e+04,  4.37309384e+03,  1.23875276e+04,  2.62777072e+04,\n",
              "        9.72174906e+03,  5.86690469e+03,  1.01690569e+04,  2.53699603e+04,\n",
              "        1.03851628e+04,  1.11736629e+04,  9.13193348e+03,  1.55366339e+04,\n",
              "        3.01715564e+03, -1.56437483e+03,  5.15686104e+02,  2.84046192e+04,\n",
              "        5.79849885e+03,  1.39772340e+04,  3.26417383e+03,  3.42607762e+04,\n",
              "        2.93611871e+03,  9.18456918e+03,  8.27766569e+03,  1.38586590e+04,\n",
              "        8.64470431e+03, -1.68498297e+03,  8.15323423e+03,  1.27767827e+04,\n",
              "        1.12360746e+04,  5.18657956e+03,  2.72124031e+04,  1.71239844e+04,\n",
              "        1.84688654e+04,  2.66817056e+03,  5.29474930e+03,  1.11211134e+04,\n",
              "        6.40712288e+03,  8.21627219e+03,  5.46612944e+03,  1.38252015e+04,\n",
              "        1.93805366e+03,  7.51289389e+03,  3.80845060e+03,  1.81803324e+03,\n",
              "        9.46304208e+03,  6.11724177e+03,  1.33647445e+03,  1.18417834e+04,\n",
              "        8.71708019e+03,  3.91787174e+04,  1.32478167e+04,  3.06740487e+04,\n",
              "        2.41718151e+04,  1.33920141e+04,  7.91817779e+03,  4.14887140e+03,\n",
              "        6.50115325e+03,  8.10173685e+03,  1.77038455e+04,  5.42086064e+03,\n",
              "        1.72425921e+03,  4.40650900e+03,  1.12770677e+04,  4.81629309e+03,\n",
              "        9.67744532e+03,  1.06011045e+04,  1.00741658e+04,  1.15516188e+04,\n",
              "        3.48994101e+04,  1.02039166e+04,  1.07527883e+04,  2.83861398e+04,\n",
              "        1.78749154e+03,  9.76081160e+02,  1.00524643e+04,  4.29511714e+03,\n",
              "        7.06481835e+03,  3.00250128e+03,  7.60279465e+03,  2.28350975e+04,\n",
              "        1.18721135e+04,  5.71582968e+03,  3.97255005e+03,  1.73079617e+04,\n",
              "        7.43022558e+03,  1.15975214e+03,  1.05317229e+03,  8.26275478e+03,\n",
              "        8.70569475e+03,  6.78275065e+03,  9.05675307e+03,  8.80551060e+03,\n",
              "        1.13020562e+04,  3.46780076e+04,  5.58344359e+03,  3.33704069e+03,\n",
              "        1.08489410e+04,  6.19820681e+03,  8.15904078e+03,  9.29728698e+03,\n",
              "        9.66309727e+03,  1.02353427e+04,  6.17865044e+03,  9.59493805e+03,\n",
              "        2.73097199e+04,  2.27288239e+04,  1.07320459e+04,  8.92819114e+03,\n",
              "       -6.27228329e+02,  2.45212184e+04,  5.81671957e+03,  2.09944683e+03,\n",
              "        5.61181233e+03,  2.79277529e+04,  1.64522484e+04,  3.84667508e+04,\n",
              "        1.64437318e+04,  1.43723713e+04,  3.50739064e+03,  2.52364714e+04,\n",
              "        1.04156796e+04,  1.38542737e+04,  1.34618684e+04,  3.66019465e+03,\n",
              "        9.78250804e+03,  3.84388722e+04,  2.54111856e+04,  4.38039646e+03,\n",
              "        1.41706362e+04,  3.14775225e+04,  6.49877370e+03,  2.82639970e+04,\n",
              "        6.74248358e+03,  1.17948137e+04,  8.53107816e+03,  1.20203446e+04,\n",
              "        3.82160974e+03,  1.24477964e+04,  1.36232607e+04,  4.26411019e+03,\n",
              "        1.27456343e+04,  1.69281565e+04,  2.53494955e+04,  1.35178698e+04,\n",
              "        2.78465093e+04,  2.66121747e+04,  8.46763715e+03,  1.18922719e+04,\n",
              "        3.59339219e+04,  1.17321653e+04,  9.74678671e+03,  1.19340871e+04,\n",
              "        1.08598591e+04,  8.21431087e+03,  5.36045793e+03,  1.37653494e+03,\n",
              "        2.72356641e+04,  1.20070235e+04,  1.36782578e+04, -1.21943021e+03,\n",
              "        7.63480374e+03,  4.95019803e+03,  1.32004755e+04,  1.03688534e+04,\n",
              "        8.26275183e+03,  3.10674570e+04,  9.48511330e+03,  2.78865918e+03,\n",
              "        1.15405148e+04,  1.15080156e+04,  7.02130133e+03,  1.42666022e+04,\n",
              "        9.88153423e+03,  1.16853399e+04,  1.23232712e+04,  5.63124916e+03,\n",
              "        3.02265969e+03,  4.04496817e+04,  1.32472366e+04,  1.51635044e+04,\n",
              "        9.13013491e+03,  5.35016465e+03,  1.00636402e+04,  4.70208008e+03,\n",
              "        9.43189368e+03,  1.38470179e+04,  3.26102445e+03,  3.52052786e+03,\n",
              "        9.21324423e+03,  4.61465562e+03,  5.91070229e+03,  9.18879345e+03,\n",
              "        5.43668076e+03,  2.60383622e+04,  4.23925931e+03,  5.36941472e+03,\n",
              "        5.68624629e+03,  9.33933366e+03,  4.72179834e+03,  1.47178288e+04,\n",
              "        1.67583443e+04,  2.62725246e+04,  3.58956132e+04,  1.92104463e+03,\n",
              "        3.64118622e+04,  3.29098603e+03,  1.56576355e+04,  6.96208458e+03,\n",
              "        6.32202948e+03,  2.99831716e+04,  1.38219575e+04,  1.11755485e+04,\n",
              "        8.24928639e+03,  2.43281924e+03,  1.61860021e+04,  3.02938480e+04,\n",
              "       -3.53841261e+02,  8.85245548e+03,  9.40094978e+03,  9.04779543e+03,\n",
              "        1.41223405e+04,  5.38353216e+03,  4.65581587e+03,  1.29878481e+04,\n",
              "        2.62912875e+04,  1.70604534e+04,  2.92322700e+04,  1.61095600e+04,\n",
              "        8.66022022e+03,  1.09138751e+04,  1.50305057e+04,  1.17260524e+04,\n",
              "        1.15532087e+04,  2.45473234e+04,  3.29198647e+04,  9.43952389e+03,\n",
              "        1.12737564e+04,  2.67923029e+04,  3.64999813e+03,  6.15399098e+03,\n",
              "        5.68890641e+03,  1.13697224e+04,  3.84869350e+04,  3.32033749e+04,\n",
              "        2.66932768e+04,  1.42678639e+04,  3.56467955e+04,  3.95640039e+04,\n",
              "        2.61210405e+03,  2.62980275e+04,  5.77168751e+03,  3.65861831e+04,\n",
              "        5.65266923e+03,  1.14902358e+04,  2.44196279e+03,  3.48364820e+04,\n",
              "        1.55160073e+04,  7.65337988e+03,  1.26587227e+04,  5.11863663e+03,\n",
              "        1.10157233e+04,  2.91524939e+04,  8.09074772e+03,  2.49643709e+04,\n",
              "        1.14226863e+04, -4.70575275e+02,  3.28826224e+04,  1.20056242e+04,\n",
              "        6.80312007e+03,  1.09341954e+04,  2.83477584e+04,  1.08566869e+04,\n",
              "       -9.99778605e+02,  4.00350703e+03,  8.63964421e+03,  3.74221181e+03,\n",
              "        2.71003047e+03,  1.18729318e+04,  8.13295248e+03,  3.30949722e+04,\n",
              "        1.32542110e+04,  3.29170761e+03,  5.91823869e+03,  3.13041668e+04,\n",
              "        1.08399813e+04,  1.60813484e+03,  3.66971748e+04,  9.60910315e+03,\n",
              "        3.70798965e+04,  6.87556933e+03,  1.44447729e+04,  7.14377318e+03,\n",
              "        2.85566993e+04,  4.29012893e+03,  1.70173327e+04,  1.17230217e+04,\n",
              "        9.08398264e+03,  3.62129559e+04,  1.35922070e+04,  1.85401021e+04,\n",
              "        1.59527012e+04,  3.80874365e+04,  1.20042447e+04,  3.10003748e+04,\n",
              "        9.19721543e+03,  4.12000958e+03,  9.19740010e+03,  1.25133356e+04,\n",
              "        1.22033665e+04,  9.12768434e+03,  1.52632945e+04,  8.37103926e+01,\n",
              "        6.83592558e+03,  1.14850275e+04,  4.28321881e+03,  1.35686169e+04,\n",
              "        3.23464455e+04,  1.09157418e+04,  2.46765850e+04,  2.63160167e+04,\n",
              "        1.43516509e+04,  1.43116123e+04,  1.45193188e+04,  6.64394455e+03,\n",
              "        3.12628446e+04,  1.52067870e+04,  3.01604808e+04,  6.17718010e+03,\n",
              "        1.70095056e+03,  2.95487234e+04,  8.14273141e+03,  3.20680218e+04,\n",
              "        3.34975081e+04,  3.25564158e+04,  2.98402191e+03,  9.17826871e+03,\n",
              "        1.01607059e+04,  9.80560800e+03,  3.13960923e+04,  2.99291623e+04,\n",
              "        7.73812143e+03,  3.06475179e+04,  1.13276786e+04,  8.06157960e+03,\n",
              "        4.58635877e+03,  2.98902659e+04,  1.14605057e+04,  1.57113701e+04,\n",
              "        1.63490246e+04,  7.24151579e+03,  3.61388134e+03,  5.48675310e+03,\n",
              "        3.14460255e+04,  5.82908524e+03,  6.44219430e+03,  1.13053721e+04,\n",
              "        1.46319224e+04,  7.24975014e+03,  1.04713037e+04,  1.59108633e+04,\n",
              "        1.11575821e+04,  3.88290648e+03,  5.38707786e+03,  2.83025623e+04,\n",
              "        3.50741243e+04,  1.04526147e+04,  9.76750798e+03,  7.67202029e+03,\n",
              "        1.03784631e+04,  7.39966110e+03,  1.72438210e+04,  2.96034391e+04,\n",
              "        1.45849745e+04,  1.21952674e+04,  1.36878985e+03,  1.50293159e+04,\n",
              "        2.01124874e+03,  9.24173546e+03,  1.35702710e+04,  1.45689457e+04,\n",
              "        7.56730710e+03,  1.40117194e+04,  6.41143926e+03,  1.14250892e+04,\n",
              "        9.91300705e+03,  5.17911800e+03,  9.39346248e+03,  2.12872392e+03,\n",
              "        1.43148345e+04,  3.17656347e+03,  2.38871744e+03,  7.36879414e+03,\n",
              "        1.56366155e+04,  8.71876008e+03,  1.15890457e+04,  3.11893660e+04,\n",
              "        5.96982988e+03,  1.77099835e+03,  1.60660687e+04,  7.20478849e+03,\n",
              "        1.20986495e+04,  1.14976746e+04,  1.10135533e+04,  9.00864329e+03,\n",
              "        1.21590560e+04,  1.67610982e+04,  7.81015246e+03,  1.15827929e+04,\n",
              "        3.64396538e+04,  5.13972849e+03,  7.56319855e+03,  4.01377522e+04,\n",
              "        1.03260881e+04,  4.99124171e+03,  1.21792387e+04,  3.99634881e+03,\n",
              "        3.89891174e+04,  3.32367182e+04,  1.46670341e+04, -1.09016862e+03,\n",
              "        1.36105887e+04,  3.06444153e+04,  2.90047748e+04,  1.11436756e+04,\n",
              "        5.44592107e+03,  2.01369931e+03,  1.46019132e+04,  3.35976921e+03,\n",
              "        7.00802731e+03,  2.03688843e+03,  2.92837378e+04,  3.26005840e+04,\n",
              "        3.47227144e+04,  1.26277333e+04,  1.91881618e+04,  7.92524895e+03,\n",
              "        3.88926613e+04,  9.28032645e+03,  3.50678859e+03,  1.27800940e+04,\n",
              "        8.30960290e+03,  3.66856207e+04,  1.14037168e+04,  8.01883622e+03,\n",
              "        4.17145637e+03,  2.83072778e+03,  6.11871212e+03,  1.29830407e+04,\n",
              "        2.89887469e+04,  1.14020377e+04,  6.10340575e+03,  2.74791644e+04,\n",
              "        3.03280043e+04,  1.14213770e+04,  2.51846914e+03,  1.27116618e+04,\n",
              "        3.45218476e+04,  3.39947666e+04,  2.91893550e+04,  2.61504474e+03,\n",
              "        1.22030602e+04,  7.79528857e+03,  2.10012076e+03,  3.69549839e+03,\n",
              "        8.44297008e+03,  9.62697288e+03,  9.46516444e+03,  6.93754000e+03,\n",
              "        3.24009450e+03,  9.81022859e+03,  1.45711876e+04,  9.67077048e+03,\n",
              "        5.42881528e+03,  1.63307796e+04,  8.18808641e+03, -1.94350615e+03,\n",
              "        1.21897891e+04,  1.33222726e+04,  3.33572317e+04,  2.67255922e+04,\n",
              "        1.17444190e+04,  8.43205198e+03,  1.36126211e+04,  2.94001238e+04,\n",
              "        1.74997317e+04,  6.42511424e+03,  1.22536492e+04,  9.38718688e+03,\n",
              "        2.94215190e+04,  8.33533725e+03,  3.17429073e+04,  1.34978952e+04,\n",
              "        4.69167486e+03,  1.75710336e+04,  2.82641589e+04, -2.50829014e+02,\n",
              "        3.13348976e+02,  3.13176287e+03,  6.40523640e+03,  2.68539930e+04,\n",
              "        4.39531032e+03,  1.04672472e+04,  7.72407673e+03,  1.20786998e+04,\n",
              "        2.65610093e+04,  1.56185771e+04,  3.52006547e+04,  3.16848803e+04,\n",
              "        6.98789377e+03,  3.40376068e+04,  1.44695747e+04,  7.27362164e+03,\n",
              "        7.60090607e+03,  1.02665870e+04,  9.46211096e+03,  1.24353589e+04,\n",
              "        9.13232684e+03,  1.23364295e+04,  7.29487602e+03,  3.74510339e+03,\n",
              "        3.04928510e+04,  3.25355994e+03,  8.62981617e+03,  6.92158309e+03,\n",
              "        3.28020263e+03,  1.27274583e+04,  6.68256336e+02,  4.92425104e+02,\n",
              "        1.24925032e+04,  1.63895033e+04,  8.30036174e+03,  1.02023525e+04,\n",
              "        3.55013184e+04,  3.53010317e+04,  1.35610805e+04,  6.03415438e+03,\n",
              "        1.95307946e+03,  1.25729533e+04,  3.29816258e+04,  1.34984329e+04,\n",
              "        3.52837641e+04,  1.40358715e+04,  1.00816075e+04,  1.24656662e+04,\n",
              "        4.71493586e+03,  5.09700788e+03,  7.07226474e+03,  1.61198761e+04,\n",
              "        1.21241524e+04,  9.18601761e+03,  3.41104947e+04,  2.97284515e+03,\n",
              "        2.43988836e+04,  3.84115699e+04,  1.27227439e+04,  1.07104867e+04,\n",
              "        1.67911725e+04,  3.45987692e+04,  3.47740703e+04,  8.27539893e+03,\n",
              "        1.01023756e+04,  1.22370555e+04,  3.42272968e+04,  1.50205678e+04,\n",
              "        4.32136943e+03,  6.51277162e+03,  6.74943225e+03,  1.64298481e+04,\n",
              "        3.54477916e+04,  6.50432687e+03,  1.20393141e+04,  3.60161228e+04,\n",
              "        9.39376878e+03,  4.13648085e+03,  9.73325404e+03,  4.71972509e+03,\n",
              "        6.99241674e+03,  1.29774180e+04,  4.14884652e+03,  1.23685589e+04,\n",
              "        1.57079393e+04,  3.06195425e+04,  1.12218846e+04,  3.34646777e+04,\n",
              "        1.47030147e+04,  8.54208542e+03,  3.23339194e+04,  3.00133178e+04,\n",
              "        1.20682945e+04,  3.11199308e+04,  1.05091941e+04,  3.35265336e+03,\n",
              "        1.05613465e+04,  1.18310009e+04,  1.10562021e+04,  3.04219198e+04,\n",
              "        1.07066149e+04,  5.39208884e+03,  1.01278785e+04,  1.97963214e+03,\n",
              "        3.64488701e+04,  7.12854080e+03,  3.84135287e+03,  2.90497792e+03,\n",
              "        7.43060291e+03,  2.90023023e+04,  2.68480880e+04,  1.37591004e+04,\n",
              "        1.13959373e+03,  2.94312473e+04, -1.38100719e+03,  3.95399879e+03,\n",
              "        2.60392486e+04,  1.15976810e+04,  1.68989710e+02,  6.35399916e+03,\n",
              "        1.13499802e+03,  1.46039931e+04,  1.43298603e+04,  1.06405138e+04,\n",
              "        3.60046502e+03,  2.95492354e+04,  3.25492500e+04,  6.94517316e+03,\n",
              "        1.81435444e+04,  9.58128880e+03,  1.32588088e+04,  1.02398724e+04,\n",
              "        1.02969419e+04,  2.91694054e+03,  1.09260321e+04,  9.22855145e+03,\n",
              "        5.77082681e+03,  2.68223545e+04,  1.04963383e+04,  5.76216577e+03,\n",
              "        3.22856880e+04,  1.31754409e+04,  1.98061237e+03,  1.50249540e+04,\n",
              "        1.05314825e+04,  7.35724680e+03,  1.98040369e+03,  5.63843986e+03,\n",
              "        2.63204527e+04,  4.99866849e+02, -5.67452060e+00,  3.17540122e+04,\n",
              "        8.03912196e+02,  1.35720705e+04,  6.43027110e+03,  9.60954562e+03,\n",
              "        3.67191069e+04,  9.02699317e+02,  4.01942340e+04,  1.16051456e+04,\n",
              "        1.51941180e+04,  3.35496288e+04,  1.06149633e+04,  4.50296507e+03,\n",
              "        3.25769040e+03,  3.14857826e+04,  1.45133723e+04,  3.94851750e+03,\n",
              "        2.50158050e+03,  1.39391348e+04,  2.66056428e+04,  3.09865388e+04,\n",
              "        7.30898966e+03,  6.19750800e+03,  1.30026622e+04,  1.29221222e+04,\n",
              "        1.26562473e+04,  1.18563191e+04,  3.69333196e+04,  1.01668869e+04,\n",
              "        1.27043592e+04,  4.92033322e+03,  1.06776327e+04,  5.29061883e+03,\n",
              "        7.67222984e+03,  2.77504685e+04,  4.99291864e+03,  1.34439040e+04,\n",
              "        1.46398770e+04,  9.34034482e+02,  2.30084609e+04,  3.53448341e+03,\n",
              "        1.12012610e+04,  6.05093109e+03,  4.25239653e+03,  2.46385020e+03])"
            ]
          },
          "metadata": {},
          "execution_count": 17
        }
      ]
    },
    {
      "cell_type": "markdown",
      "source": [
        "Visualizing the prediction results."
      ],
      "metadata": {
        "id": "qXvq1ebmZOdC"
      }
    },
    {
      "cell_type": "code",
      "source": [
        "plt.scatter(y_train,y_pred_train)\n",
        "plt.title(\"Actual Expenses vs Predicted Expenses - Training Set\")\n",
        "plt.xlabel(\"Actual Expenses\")\n",
        "plt.ylabel(\"Predicted Expenses\")\n",
        "plt.show()"
      ],
      "metadata": {
        "colab": {
          "base_uri": "https://localhost:8080/",
          "height": 472
        },
        "id": "b9PqEjvTTkrD",
        "outputId": "95c5950c-7cbf-43f5-eb3d-cc1548482d81"
      },
      "execution_count": 21,
      "outputs": [
        {
          "output_type": "display_data",
          "data": {
            "text/plain": [
              "<Figure size 640x480 with 1 Axes>"
            ],
            "image/png": "[encoded data removed]"
          },
          "metadata": {}
        }
      ]
    },
    {
      "cell_type": "markdown",
      "source": [
        "R - squared score for Training Set"
      ],
      "metadata": {
        "id": "Bib_4OywZNid"
      }
    },
    {
      "cell_type": "code",
      "source": [
        "from sklearn.metrics import r2_score\n",
        "r2_score(y_train,y_pred_train)"
      ],
      "metadata": {
        "colab": {
          "base_uri": "https://localhost:8080/"
        },
        "id": "BD4u4iqJTyT1",
        "outputId": "eb23cdb3-0186-4978-f399-ff2f6b538282"
      },
      "execution_count": 19,
      "outputs": [
        {
          "output_type": "execute_result",
          "data": {
            "text/plain": [
              "0.7283875607451584"
            ]
          },
          "metadata": {},
          "execution_count": 19
        }
      ]
    },
    {
      "cell_type": "markdown",
      "source": [
        "# Prediction for Test Set."
      ],
      "metadata": {
        "id": "LluxQ8ZYZPpe"
      }
    },
    {
      "cell_type": "code",
      "source": [
        "y_pred_test = reg.predict(X_test)\n",
        "y_pred_test"
      ],
      "metadata": {
        "colab": {
          "base_uri": "https://localhost:8080/"
        },
        "id": "la2LIGGTT7tW",
        "outputId": "feb249d0-766f-427d-d981-2ee9a3a33fb7"
      },
      "execution_count": 20,
      "outputs": [
        {
          "output_type": "execute_result",
          "data": {
            "text/plain": [
              "array([11082.19506207,  9892.35766764, 37748.76666275, 16068.10107978,\n",
              "        7001.75170647,  3861.06818031,  1384.11898523, 14580.3569126 ,\n",
              "        9209.62960383,  7603.5661921 ,  4834.19529683, 10470.21063673,\n",
              "        8737.93826132,  4063.12387938, 27289.39956267, 11391.53787786,\n",
              "       11252.61689648,  5930.93344157,  8280.01951172, 26467.18851621,\n",
              "       33419.97388794, 14480.26048691, 11677.07897691, 32047.32325678,\n",
              "        4200.1314127 ,  9036.15219176,  1065.86617611, 10352.544037  ,\n",
              "        3997.51285549, 10480.89727744,  9242.92523129, 39924.58400727,\n",
              "       15444.07392104, 13598.66551602, 24290.8801993 ,  5009.32477137,\n",
              "       12948.25284864, 30096.40523929, 33239.86841683,  3324.39358697,\n",
              "        3978.17277877,  4106.61603203, 29998.87892167, 39175.54526075,\n",
              "       27476.63901046,  5059.32608328, 11262.27629215,  7791.64821338,\n",
              "        3625.36353895, 10737.45912993,  5458.30951275,  3545.12303412,\n",
              "       32562.17767815, 38313.48241356, 16225.96582423,  6831.1439586 ,\n",
              "        5753.23090331,  9341.10735206,  9732.04530125, 11807.57944975,\n",
              "        1495.06309334, 38795.32177966, 15481.31620124, 11797.75436645,\n",
              "       14295.89070333, 13912.32261394, 25519.02716215, 31896.94875949,\n",
              "        1289.32002835, 10425.01753498, 12295.85313371, 11913.95061963,\n",
              "       24528.63531555, 15905.26243753, 11239.47967819, 12682.77719031,\n",
              "        6420.23646935, 10006.57154265, 29861.10070063, 38611.52831191,\n",
              "       12034.50879968, 36957.30305179,  3930.71291412,  9269.10205349,\n",
              "       34369.01871551, 28898.38175139,  8374.13693684,  4643.61209761,\n",
              "       12022.7723671 , 29703.9998992 , 10165.25547643, 11207.32618035,\n",
              "        8044.52145803,  9412.24730418,  8159.01590524,  7245.66816993,\n",
              "       35532.65355913, 32792.02580507,  7681.77434911, 14827.1406958 ,\n",
              "        4071.3599425 ,  8661.22322384,  6689.42204045, 31247.18429369,\n",
              "       32774.85573372,  1884.15629845,  8945.7385459 ,  6441.11731032,\n",
              "       14439.96558468, 36666.51359672, 10542.40270564, 10742.96404327,\n",
              "       10269.73721315, 26272.31590661, 39729.71139767,  8561.92321449,\n",
              "         143.90737287,  8845.85166352, 15125.05042419,  9743.7340891 ,\n",
              "       35242.21130492,  7325.39578627, 16789.16358376,  9660.36612083,\n",
              "        8221.38203399,  3092.0078253 , 32612.81055218, 31251.90163416,\n",
              "       38960.90674311,  5222.83865573,  9799.5419458 ,  3719.0408182 ,\n",
              "        7981.33823874,  8587.44802258, 31099.4433318 , 29285.8602077 ,\n",
              "       29634.35516539,  9317.75169247, 32572.91110672,  3225.86512221,\n",
              "        3431.86451838, 11023.9585439 , 13499.08493447, 12725.28911192,\n",
              "        5396.38795357, 15873.43715662, 15294.91025732,  2507.38999649,\n",
              "        -174.81277879, 10921.22772594,  7442.50124159, 31404.35023619,\n",
              "       12341.63482223,  2491.05575393,  6216.09930967,  8208.52624477,\n",
              "        4259.46769239,  2297.16337537, 11639.16572213, 12736.41885414,\n",
              "        7332.18723146, 16531.90207244, 11821.1568139 , 13893.1444358 ,\n",
              "        3136.01200957,  7433.26388819, 22543.76879963,  7773.42602524,\n",
              "        5416.3376763 ,  5186.81102162,  6691.17381607,  5226.57576517,\n",
              "       10111.31046741,  5396.78131157,  5749.10339151,  7164.70609015,\n",
              "        3772.38292591,  5592.73090972, 37942.75579884,  1235.67922138,\n",
              "       12765.58401416,  9093.01512089, 13610.17048918,  5462.88245097,\n",
              "        5294.14725112, 36053.13071059,  4081.39456911,  1908.60707364,\n",
              "       15183.91850448, 12785.53373689, 34593.05648514,  5169.61817729,\n",
              "        5632.22939561, 31123.80409417,  5838.79164993,  1852.98303163,\n",
              "        8462.52644762, 10165.74559194,  8254.1884028 ,  5685.75617487,\n",
              "       13202.48365405, 38337.97934589, 13898.09323569, 28590.2535817 ,\n",
              "        6724.46944353, 35446.04069572,  3803.22797579, 12067.4762102 ,\n",
              "        9439.66154544,  6137.09473632, 11284.6517207 , 14525.73501774,\n",
              "        5359.19627373,  4133.74884422,  7780.63335573,  1077.41351736,\n",
              "        8047.53699253,  4467.03419263, 13593.39587461,  4506.91086511,\n",
              "       10134.29089606,  7518.82377794,  9154.88817848,  2292.38089383,\n",
              "       13102.26769786, 16683.56395846, 15395.98691405, 10549.35138005,\n",
              "        5905.17631718,  2359.62416285,  1968.4085971 , 13340.96153392,\n",
              "       14319.84755049,  5252.05441612,  4165.18076713,  9434.31938755,\n",
              "       10064.94950743, 27632.50324968,  7584.90004559, 10751.62422398,\n",
              "        6144.6551555 , 29435.58736027, 11101.58278352,  7471.66640161,\n",
              "       10388.57167111, 12224.2487947 ,  2993.38260302, 10816.64837484,\n",
              "        1418.39484373,  7037.00865286, 28392.95231063, 38443.3951565 ,\n",
              "        6279.236983  ,  8298.12070131,  2321.26548165,   233.90193211,\n",
              "       10400.14092847,  4249.6645252 ,  5182.57158089,  2708.53735029,\n",
              "        7492.06155077, 33034.75163731, 37765.84672128, 14967.93212643,\n",
              "        8211.25825142, 15925.98370485, 32960.62483496,  9732.83876195,\n",
              "       33349.15836371,  3357.9706435 , 30376.88624024,  8072.66169793,\n",
              "       14270.85219824,  4188.77084179, 32060.67001838,  8345.37187951,\n",
              "       11453.97379359,  9862.28711799,  4064.59508279, 12753.37938217,\n",
              "       11755.54579001,  8234.54202525, 13245.27614787,  2612.1040495 ,\n",
              "       10525.60112055,  5488.61975802, 11623.55601015, 31318.23423299,\n",
              "        9895.20246009,  1041.78684281,   547.3275706 , 39567.48240144,\n",
              "        9723.10748052,  7094.49639942, 14124.30101069, 13493.81233741,\n",
              "       26714.41540092,  7153.0134898 ,  6775.91537336, 11948.12972061,\n",
              "        2668.94210688,  3919.51424179, 24852.42379759, 25897.59562513,\n",
              "       13384.17140063,  3081.08762639,  5098.89645493,  9506.51145646,\n",
              "       12368.83952018, 23124.5852348 , 30675.05462472, 10166.11617697,\n",
              "       23588.87634297,  2720.43568145, 11415.28689545,  7437.5524417 ,\n",
              "        8249.19637795,   396.1558001 ,  7678.69599847, 35169.55103661,\n",
              "        6212.27514305,  6241.44030308,   135.2039672 , 10856.70886201,\n",
              "        6646.39513156, 10053.72510647, 38664.49223302, 27399.01772648,\n",
              "       11532.76968049, 35365.87207665, 15180.79399669,  6853.73102924,\n",
              "       11038.49422298,  6910.49720086, 36373.55266822,  6071.78915639,\n",
              "       11132.12827728,   725.09439306, 23955.24103083,  1851.35078651,\n",
              "       34289.03600991, 11272.39797593,  1734.24618805, 31793.16286909,\n",
              "        6803.8446019 ,  5174.21303163, 38017.02025874,  2044.42483262,\n",
              "        9795.99920826,  2712.45913128, 13158.17612458,  1070.85734409,\n",
              "       11100.39386605,  7226.1866466 , 36113.3504638 ,  7183.64899636,\n",
              "       30290.6258348 , 29210.05351549,  7121.95975347, 11098.83646232,\n",
              "        1764.1110069 ,  2164.47012418,  3862.67618441, 12706.52916354,\n",
              "       36954.7177723 ,  9721.79817569,   286.25620722, 11402.80843596,\n",
              "        4918.86286959,  9735.09496763,  5576.93442741,  7076.69181031,\n",
              "        4304.63887804, 27964.10196353,  4520.53819891,  -953.11429972,\n",
              "       32933.67583746, 12947.0630743 , 35638.72138383,  9851.54987692,\n",
              "        7625.17007607,  -140.5369203 ,  2494.71802197, 11655.35556245,\n",
              "        5677.19189481,  3193.7811852 , 12199.72613374,  7938.80440101,\n",
              "        6870.69155727,  5567.92767656,  2980.91931494, 31621.80991643,\n",
              "        3413.17645576,  8606.50667023,  4669.76467877, 13002.70988928,\n",
              "       14600.93292081,  7095.63852903, 26490.4524727 , 14201.762721  ,\n",
              "       17378.68342459, 11520.77373495,  1998.11151737,  8084.06905671,\n",
              "       19030.15329389,  7870.83660142,  6403.27594131,  1934.34142505,\n",
              "       26593.71809527, 14893.85148122, 10503.40950668, 16176.43271173,\n",
              "       11745.23059119, 11544.17999491, 39110.81685351,  5908.22979607,\n",
              "       12255.325304  ,  3036.28702577, 15639.79059171,  4490.47986504,\n",
              "        5196.91963277,  5875.95908873, 15321.13472425,  8860.90023108,\n",
              "        8816.59649068, 34019.05255441,  6649.82594017, 26692.1346311 ,\n",
              "       27279.50933831, 15398.41261988,  8808.96332886, 34057.3629797 ,\n",
              "       10145.7701406 ,  3856.37571159, 15562.15960739, 29549.10071959,\n",
              "       29154.14804441, 27972.36204155, 10028.01352804, 32881.04013328,\n",
              "        4100.03794265, 25285.77309837,  5567.13126022, 27854.69544181,\n",
              "        7160.57562271, 15210.65881554])"
            ]
          },
          "metadata": {},
          "execution_count": 20
        }
      ]
    },
    {
      "cell_type": "markdown",
      "source": [
        "Visualizing the results for the test set"
      ],
      "metadata": {
        "id": "DunMGso9ZQ7U"
      }
    },
    {
      "cell_type": "code",
      "source": [
        "plt.scatter(y_test,y_pred_test)\n",
        "plt.title(\"Actual Expenses vs Predicted Expenses - Test Set\")\n",
        "plt.xlabel(\"Actual Expenses\")\n",
        "plt.ylabel(\"Predicted Expenses\")\n",
        "plt.show()"
      ],
      "metadata": {
        "colab": {
          "base_uri": "https://localhost:8080/",
          "height": 472
        },
        "id": "wpzEUCpxVxyK",
        "outputId": "44907d2c-53a2-4a61-bd9b-2d32ca52b1de"
      },
      "execution_count": 22,
      "outputs": [
        {
          "output_type": "display_data",
          "data": {
            "text/plain": [
              "<Figure size 640x480 with 1 Axes>"
            ],
            "image/png": "[encoded data removed]"
          },
          "metadata": {}
        }
      ]
    },
    {
      "cell_type": "markdown",
      "source": [
        "R squared score for test set"
      ],
      "metadata": {
        "id": "dD_e9z_QZRsN"
      }
    },
    {
      "cell_type": "code",
      "source": [
        "r2_score(y_test,y_pred_test)"
      ],
      "metadata": {
        "colab": {
          "base_uri": "https://localhost:8080/"
        },
        "id": "4oiU3Qx7WK6u",
        "outputId": "b95ce789-1393-4d93-c4ee-1d8c372cbc59"
      },
      "execution_count": 23,
      "outputs": [
        {
          "output_type": "execute_result",
          "data": {
            "text/plain": [
              "0.7880060546110194"
            ]
          },
          "metadata": {},
          "execution_count": 23
        }
      ]
    }
  ]
}